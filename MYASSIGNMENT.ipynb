{
 "cells": [
  {
   "cell_type": "markdown",
   "id": "b5482c4c-cdf8-4024-a3ae-3189b66af3f3",
   "metadata": {},
   "source": [
    "# Data Science Notebook\n"
   ]
  },
  {
   "cell_type": "markdown",
   "id": "596f6882-d2c2-47f6-b44e-3a2f4e46e7dc",
   "metadata": {},
   "source": [
    "## Introduction\n",
    "\n",
    "This notebook covers various aspects of data science including languages, libraries, and tools used in the field. It will also demonstrate basic arithmetic operations and provide examples of how to use various data science platforms.\n"
   ]
  },
  {
   "cell_type": "markdown",
   "id": "1033ae3e-36cf-4ebf-939d-7265fd4adfab",
   "metadata": {},
   "source": [
    "## Data Science Languages\n",
    "\n",
    "1. Python\n",
    "2. R\n",
    "3. SQL\n",
    "4. Julia\n",
    "5. Java\n"
   ]
  },
  {
   "cell_type": "markdown",
   "id": "c0e45e0f-53ff-495b-98df-e4ee5f06fccb",
   "metadata": {},
   "source": [
    "## Data Science Libraries\n",
    "\n",
    "1. Pandas\n",
    "2. NumPy\n",
    "3. SciPy\n",
    "4. TensorFlow\n",
    "5. Scikit-learn\n"
   ]
  },
  {
   "cell_type": "markdown",
   "id": "7ca03be2-f9a5-4c8b-9b89-5ac4d3f29f7e",
   "metadata": {},
   "source": [
    "## Data Science Tools\n",
    "\n",
    "| Tool            | Purpose                  |\n",
    "|-----------------|--------------------------|\n",
    "| Jupyter Notebooks | Interactive coding environment |\n",
    "| RStudio         | Integrated development environment for R |\n",
    "| VSCode          | Code editor with extensions for various languages |\n",
    "| Git             | Version control tool      |\n",
    "| GitHub          | Platform for hosting and sharing code |\n"
   ]
  },
  {
   "cell_type": "markdown",
   "id": "fb694d2f-afee-4bb7-a982-1d1b58df2f0b",
   "metadata": {},
   "source": [
    "## Arithmetic Expression Examples\n",
    "\n",
    "In this section, we will demonstrate basic arithmetic operations such as addition and multiplication.\n"
   ]
  },
  {
   "cell_type": "code",
   "execution_count": 1,
   "id": "7d5822af-47e1-4915-a513-b00d65931236",
   "metadata": {},
   "outputs": [
    {
     "data": {
      "text/plain": [
       "53"
      ]
     },
     "execution_count": 1,
     "metadata": {},
     "output_type": "execute_result"
    }
   ],
   "source": [
    "# Multiplying and Adding numbers\n",
    "a = 5\n",
    "b = 10\n",
    "result = a * b + 3\n",
    "result\n"
   ]
  },
  {
   "cell_type": "code",
   "execution_count": 3,
   "id": "f507f069-6959-4e69-b77b-3b1e6ac89e2f",
   "metadata": {},
   "outputs": [
    {
     "name": "stdout",
     "output_type": "stream",
     "text": [
      "Multiplication: 80\n",
      "Division: 5.0\n"
     ]
    }
   ],
   "source": [
    "# Multiply and divide integers\n",
    "a = 20\n",
    "b = 4\n",
    "\n",
    "multiplication = a * b\n",
    "division = a / b\n",
    "\n",
    "print(\"Multiplication:\", multiplication)\n",
    "print(\"Division:\", division)\n"
   ]
  },
  {
   "cell_type": "code",
   "execution_count": 2,
   "id": "b8939df1-9fc4-4e2d-a8f7-fb78aa8587a0",
   "metadata": {},
   "outputs": [
    {
     "data": {
      "text/plain": [
       "2.0"
      ]
     },
     "execution_count": 2,
     "metadata": {},
     "output_type": "execute_result"
    }
   ],
   "source": [
    "# Convert minutes to hours\n",
    "minutes = 120\n",
    "hours = minutes / 60\n",
    "hours\n"
   ]
  },
  {
   "cell_type": "markdown",
   "id": "2dcf777d-de7a-4542-a62a-323c59563bf0",
   "metadata": {},
   "source": [
    "## Objectives\n",
    "\n",
    "- Understand key data science languages.\n",
    "- Learn about popular data science libraries.\n",
    "- Familiarize with tools used in data science.\n",
    "- Practice arithmetic expressions in Python.\n"
   ]
  },
  {
   "cell_type": "markdown",
   "id": "60df2ab4-ce4c-47a3-9981-37e7e70e69b6",
   "metadata": {},
   "source": [
    "## Author\n",
    "\n",
    "This notebook was created by V.Ranadeep.\n"
   ]
  }
 ],
 "metadata": {
  "kernelspec": {
   "display_name": "Python [conda env:base] *",
   "language": "python",
   "name": "conda-base-py"
  },
  "language_info": {
   "codemirror_mode": {
    "name": "ipython",
    "version": 3
   },
   "file_extension": ".py",
   "mimetype": "text/x-python",
   "name": "python",
   "nbconvert_exporter": "python",
   "pygments_lexer": "ipython3",
   "version": "3.12.7"
  }
 },
 "nbformat": 4,
 "nbformat_minor": 5
}
